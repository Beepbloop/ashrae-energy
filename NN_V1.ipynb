{
 "cells": [
  {
   "cell_type": "code",
   "execution_count": 1,
   "metadata": {},
   "outputs": [
    {
     "name": "stderr",
     "output_type": "stream",
     "text": [
      "Using TensorFlow backend.\n"
     ]
    }
   ],
   "source": [
    "import sklearn as sk\n",
    "import numpy as np\n",
    "import pandas as pd\n",
    "from sklearn.model_selection import train_test_split\n",
    "from keras.models import Sequential\n",
    "from keras.layers import Dense, Activation\n",
    "from keras.callbacks import EarlyStopping\n",
    "from keras.losses import mean_squared_error\n",
    "from keras import backend as K\n",
    "from keras.layers import ReLU\n",
    "from keras.layers import LeakyReLU\n",
    "from keras.optimizers import Adam"
   ]
  },
  {
   "cell_type": "code",
   "execution_count": 2,
   "metadata": {},
   "outputs": [
    {
     "name": "stdout",
     "output_type": "stream",
     "text": [
      "../../Datas/ashre-energy/FE_train_V1_noNan.pkl\n",
      "../../Datas/ashre-energy/FE_test_V1_noNan.pkl\n",
      "../../Datas/ashre-energy/test_df.pkl\n",
      "../../Datas/ashre-energy/FE_train_V1.pkl\n",
      "../../Datas/ashre-energy/FE_test_V1.pkl\n",
      "../../Datas/ashre-energy/test.pkl\n",
      "../../Datas/ashre-energy/FE_X_train_V1_noNan.pkl\n",
      "../../Datas/ashre-energy/train.pkl\n",
      "../../Datas/ashre-energy/building_metadata.pkl\n",
      "../../Datas/ashre-energy/weather_train.pkl\n",
      "../../Datas/ashre-energy/test.csv\n",
      "../../Datas/ashre-energy/sample_submission.csv\n",
      "../../Datas/ashre-energy/train.csv\n",
      "../../Datas/ashre-energy/FE_y_train_V1_noNan.pkl\n",
      "../../Datas/ashre-energy/weather_test.pkl\n",
      "../../Datas/ashre-energy/building_metadata.csv\n",
      "../../Datas/ashre-energy/weather_test.csv\n",
      "../../Datas/ashre-energy/weather_train.csv\n",
      "../../Datas/ashre-energy/submission.csv\n",
      "../../Datas/ashre-energy/.gitignore\n",
      "../../Datas/ashre-energy/train_df.pkl\n",
      "../../Datas/ashre-energy/.ipynb_checkpoints/.gitignore-checkpoint\n"
     ]
    }
   ],
   "source": [
    "import os\n",
    "for dirname, _, filenames in os.walk('../../Datas/ashre-energy/'):\n",
    "    for filename in filenames:\n",
    "        print(os.path.join(dirname, filename))"
   ]
  },
  {
   "cell_type": "code",
   "execution_count": 3,
   "metadata": {},
   "outputs": [],
   "source": [
    "import matplotlib.pyplot as plt"
   ]
  },
  {
   "cell_type": "code",
   "execution_count": 4,
   "metadata": {},
   "outputs": [],
   "source": [
    "X_train = pd.read_pickle('../../Datas/ashre-energy/FE_X_train_V1_noNan.pkl')\n",
    "y_train  = pd.read_pickle('../../Datas/ashre-energy/FE_y_train_V1_noNan.pkl')\n",
    "X_test = pd.read_pickle('../../Datas/ashre-energy/FE_test_V1_noNan.pkl')"
   ]
  },
  {
   "cell_type": "code",
   "execution_count": 5,
   "metadata": {},
   "outputs": [],
   "source": [
    "# Y_train = train_df['meter_reading']\n",
    "# X_train = train_df.drop(['meter_reading'],axis=1)\n",
    "# del train_df\n",
    "# X_test = test_df.to_numpy()\n",
    "# del test_df"
   ]
  },
  {
   "cell_type": "code",
   "execution_count": 6,
   "metadata": {},
   "outputs": [],
   "source": [
    "IN_DIM = X_train.shape[1]\n",
    "TRAIN_LEN = X_train.shape[0]"
   ]
  },
  {
   "cell_type": "code",
   "execution_count": 7,
   "metadata": {},
   "outputs": [],
   "source": [
    "def plotHistory(history):\n",
    "    # Plot training & validation loss values\n",
    "    plt.plot(history.history['loss'])\n",
    "    plt.plot(history.history['val_loss'])\n",
    "    plt.title('Model loss')\n",
    "    plt.ylabel('Loss')\n",
    "    plt.xlabel('Epoch')\n",
    "    plt.legend(['Train', 'Test'], loc='upper left')\n",
    "    plt.show()"
   ]
  },
  {
   "cell_type": "code",
   "execution_count": 8,
   "metadata": {},
   "outputs": [],
   "source": [
    "def RMSLE(y_true,y_pred):\n",
    "    return K.sqrt(K.mean(K.square(K.log(y_pred+1)-K.log(y_true+1))))"
   ]
  },
  {
   "cell_type": "code",
   "execution_count": 9,
   "metadata": {},
   "outputs": [],
   "source": [
    "def pred(model):\n",
    "    return model.predict(X_final)"
   ]
  },
  {
   "cell_type": "code",
   "execution_count": 10,
   "metadata": {},
   "outputs": [
    {
     "name": "stdout",
     "output_type": "stream",
     "text": [
      "Model: \"sequential_1\"\n",
      "_________________________________________________________________\n",
      "Layer (type)                 Output Shape              Param #   \n",
      "=================================================================\n",
      "dense_1 (Dense)              (None, 512)               25600     \n",
      "_________________________________________________________________\n",
      "re_lu_1 (ReLU)               (None, 512)               0         \n",
      "_________________________________________________________________\n",
      "dense_2 (Dense)              (None, 512)               262656    \n",
      "_________________________________________________________________\n",
      "re_lu_2 (ReLU)               (None, 512)               0         \n",
      "_________________________________________________________________\n",
      "dense_3 (Dense)              (None, 512)               262656    \n",
      "_________________________________________________________________\n",
      "re_lu_3 (ReLU)               (None, 512)               0         \n",
      "_________________________________________________________________\n",
      "dense_4 (Dense)              (None, 1)                 513       \n",
      "=================================================================\n",
      "Total params: 551,425\n",
      "Trainable params: 551,425\n",
      "Non-trainable params: 0\n",
      "_________________________________________________________________\n"
     ]
    }
   ],
   "source": [
    "Adam_ES50 = Sequential()\n",
    "Adam_ES50.add(Dense(512,input_dim = IN_DIM))\n",
    "Adam_ES50.add(ReLU())\n",
    "Adam_ES50.add(Dense(512))\n",
    "Adam_ES50.add(ReLU())\n",
    "Adam_ES50.add(Dense(512))\n",
    "Adam_ES50.add(ReLU())\n",
    "Adam_ES50.add(Dense(1))\n",
    "Adam_ES50.summary()"
   ]
  },
  {
   "cell_type": "code",
   "execution_count": 12,
   "metadata": {},
   "outputs": [],
   "source": [
    "es = EarlyStopping(monitor='val_loss', patience = 50, mode='min', restore_best_weights=True, verbose=1)\n",
    "Adam_ES50.compile(loss=mean_squared_error, optimizer='adam',metrics=['accuracy'])"
   ]
  },
  {
   "cell_type": "code",
   "execution_count": null,
   "metadata": {},
   "outputs": [],
   "source": [
    "history = Adam_ES50.fit(x=X_train,y=y_train,batch_size=1000,epochs=5000,validation_split=0.3,verbose=1)"
   ]
  },
  {
   "cell_type": "code",
   "execution_count": null,
   "metadata": {},
   "outputs": [],
   "source": []
  }
 ],
 "metadata": {
  "kernelspec": {
   "display_name": "Python 3",
   "language": "python",
   "name": "python3"
  },
  "language_info": {
   "codemirror_mode": {
    "name": "ipython",
    "version": 3
   },
   "file_extension": ".py",
   "mimetype": "text/x-python",
   "name": "python",
   "nbconvert_exporter": "python",
   "pygments_lexer": "ipython3",
   "version": "3.5.3"
  }
 },
 "nbformat": 4,
 "nbformat_minor": 4
}
