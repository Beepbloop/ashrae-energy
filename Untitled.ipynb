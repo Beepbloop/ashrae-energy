{
 "cells": [
  {
   "cell_type": "code",
   "execution_count": 1,
   "metadata": {},
   "outputs": [],
   "source": [
    "import pandas as pd\n",
    "import numpy as np"
   ]
  },
  {
   "cell_type": "code",
   "execution_count": 49,
   "metadata": {},
   "outputs": [],
   "source": [
    "train_df = pd.read_pickle('~/Datas/ashre-energy/FE_train_V1.pkl')\n",
    "# test_df  = pd.read_pickle('~/Datas/ashre-energy/FE_test_V1.pkl')"
   ]
  },
  {
   "cell_type": "code",
   "execution_count": 50,
   "metadata": {},
   "outputs": [
    {
     "name": "stdout",
     "output_type": "stream",
     "text": [
      "building_id                0.000000\n",
      "timestamp                  0.000000\n",
      "meter_reading              0.000000\n",
      "DT_M                       0.000000\n",
      "DT_W                       0.000000\n",
      "DT_D                       0.000000\n",
      "DT_hour                    0.000000\n",
      "DT_day_week                0.000000\n",
      "DT_day_month               0.000000\n",
      "DT_week_month              0.000000\n",
      "site_id                    0.000000\n",
      "square_feet                0.000000\n",
      "floor_count                0.000000\n",
      "air_temperature            0.478124\n",
      "cloud_coverage            43.655131\n",
      "dew_temperature            0.495348\n",
      "precip_depth_1_hr         18.544739\n",
      "sea_level_pressure         6.092515\n",
      "wind_speed                 0.710701\n",
      "workday                    0.000000\n",
      "avg_floor_area             0.000000\n",
      "(-0.36, 45.0]              0.000000\n",
      "(45.0, 90.0]               0.000000\n",
      "(90.0, 135.0]              0.000000\n",
      "(135.0, 180.0]             0.000000\n",
      "(180.0, 225.0]             0.000000\n",
      "(225.0, 270.0]             0.000000\n",
      "(270.0, 315.0]             0.000000\n",
      "(315.0, 360.0]             0.000000\n",
      "0                          0.000000\n",
      "1                          0.000000\n",
      "2                          0.000000\n",
      "3                          0.000000\n",
      "4                          0.000000\n",
      "5                          0.000000\n",
      "6                          0.000000\n",
      "7                          0.000000\n",
      "8                          0.000000\n",
      "9                          0.000000\n",
      "10                         0.000000\n",
      "11                         0.000000\n",
      "12                         0.000000\n",
      "13                         0.000000\n",
      "14                         0.000000\n",
      "15                         0.000000\n",
      "0                          0.000000\n",
      "1                          0.000000\n",
      "2                          0.000000\n",
      "3                          0.000000\n",
      "year_built_mean_encode    59.990033\n",
      "dtype: float64\n"
     ]
    }
   ],
   "source": [
    "print(train_df.isna().sum()/train_df.shape[0]*100)"
   ]
  },
  {
   "cell_type": "code",
   "execution_count": 51,
   "metadata": {},
   "outputs": [],
   "source": [
    "naCols = ['air_temperature','cloud_coverage','dew_temperature','precip_depth_1_hr','sea_level_pressure','wind_speed','year_built_mean_encode']\n",
    "train_df_have_na = train_df[naCols]\n",
    "train_df_no_na = train_df.drop(naCols,axis=1)\n",
    "del train_df"
   ]
  },
  {
   "cell_type": "code",
   "execution_count": 52,
   "metadata": {},
   "outputs": [],
   "source": [
    "mean = train_df_have_na.mean()"
   ]
  },
  {
   "cell_type": "code",
   "execution_count": 53,
   "metadata": {},
   "outputs": [
    {
     "data": {
      "text/plain": [
       "air_temperature           1.598795e+01\n",
       "cloud_coverage            1.900423e+00\n",
       "dew_temperature           7.747429e+00\n",
       "precip_depth_1_hr         7.964155e-01\n",
       "sea_level_pressure        1.016085e+03\n",
       "wind_speed                3.377525e+00\n",
       "year_built_mean_encode    3.092729e-12\n",
       "dtype: float64"
      ]
     },
     "execution_count": 53,
     "metadata": {},
     "output_type": "execute_result"
    }
   ],
   "source": [
    "mean"
   ]
  },
  {
   "cell_type": "code",
   "execution_count": 54,
   "metadata": {},
   "outputs": [],
   "source": [
    "train_df_have_na = train_df_have_na.fillna(mean)"
   ]
  },
  {
   "cell_type": "code",
   "execution_count": 55,
   "metadata": {},
   "outputs": [
    {
     "name": "stdout",
     "output_type": "stream",
     "text": [
      "air_temperature           0.0\n",
      "cloud_coverage            0.0\n",
      "dew_temperature           0.0\n",
      "precip_depth_1_hr         0.0\n",
      "sea_level_pressure        0.0\n",
      "wind_speed                0.0\n",
      "year_built_mean_encode    0.0\n",
      "dtype: float64\n"
     ]
    }
   ],
   "source": [
    "print(train_df_have_na.isna().sum()/train_df_have_na.shape[0]*100)"
   ]
  },
  {
   "cell_type": "code",
   "execution_count": 56,
   "metadata": {},
   "outputs": [],
   "source": [
    "train_df = pd.concat([train_df_have_na,train_df_no_na],axis=1)"
   ]
  },
  {
   "cell_type": "code",
   "execution_count": 57,
   "metadata": {},
   "outputs": [
    {
     "name": "stdout",
     "output_type": "stream",
     "text": [
      "air_temperature           0.0\n",
      "cloud_coverage            0.0\n",
      "dew_temperature           0.0\n",
      "precip_depth_1_hr         0.0\n",
      "sea_level_pressure        0.0\n",
      "wind_speed                0.0\n",
      "year_built_mean_encode    0.0\n",
      "building_id               0.0\n",
      "timestamp                 0.0\n",
      "meter_reading             0.0\n",
      "DT_M                      0.0\n",
      "DT_W                      0.0\n",
      "DT_D                      0.0\n",
      "DT_hour                   0.0\n",
      "DT_day_week               0.0\n",
      "DT_day_month              0.0\n",
      "DT_week_month             0.0\n",
      "site_id                   0.0\n",
      "square_feet               0.0\n",
      "floor_count               0.0\n",
      "workday                   0.0\n",
      "avg_floor_area            0.0\n",
      "(-0.36, 45.0]             0.0\n",
      "(45.0, 90.0]              0.0\n",
      "(90.0, 135.0]             0.0\n",
      "(135.0, 180.0]            0.0\n",
      "(180.0, 225.0]            0.0\n",
      "(225.0, 270.0]            0.0\n",
      "(270.0, 315.0]            0.0\n",
      "(315.0, 360.0]            0.0\n",
      "0                         0.0\n",
      "1                         0.0\n",
      "2                         0.0\n",
      "3                         0.0\n",
      "4                         0.0\n",
      "5                         0.0\n",
      "6                         0.0\n",
      "7                         0.0\n",
      "8                         0.0\n",
      "9                         0.0\n",
      "10                        0.0\n",
      "11                        0.0\n",
      "12                        0.0\n",
      "13                        0.0\n",
      "14                        0.0\n",
      "15                        0.0\n",
      "0                         0.0\n",
      "1                         0.0\n",
      "2                         0.0\n",
      "3                         0.0\n",
      "dtype: float64\n"
     ]
    }
   ],
   "source": [
    "print(train_df.isna().sum()/train_df.shape[0]*100)"
   ]
  },
  {
   "cell_type": "code",
   "execution_count": 58,
   "metadata": {},
   "outputs": [],
   "source": [
    "train_df.to_pickle('../../Datas/ashre-energy/FE_train_V1_noNan.pkl')"
   ]
  },
  {
   "cell_type": "code",
   "execution_count": 59,
   "metadata": {},
   "outputs": [],
   "source": [
    "del train_df, train_df_have_na,train_df_no_na"
   ]
  },
  {
   "cell_type": "code",
   "execution_count": 41,
   "metadata": {},
   "outputs": [],
   "source": [
    "test_df  = pd.read_pickle('~/Datas/ashre-energy/FE_train_V1.pkl')"
   ]
  },
  {
   "cell_type": "code",
   "execution_count": 42,
   "metadata": {},
   "outputs": [],
   "source": [
    "test_df_have_na = test_df[naCols]\n",
    "test_df_no_na = test_df.drop(naCols,axis=1)"
   ]
  },
  {
   "cell_type": "code",
   "execution_count": 43,
   "metadata": {},
   "outputs": [],
   "source": [
    "test_df_have_na = test_df_have_na.fillna(mean)"
   ]
  },
  {
   "cell_type": "code",
   "execution_count": 44,
   "metadata": {},
   "outputs": [
    {
     "name": "stdout",
     "output_type": "stream",
     "text": [
      "air_temperature           0.0\n",
      "cloud_coverage            0.0\n",
      "dew_temperature           0.0\n",
      "precip_depth_1_hr         0.0\n",
      "sea_level_pressure        0.0\n",
      "wind_speed                0.0\n",
      "year_built_mean_encode    0.0\n",
      "dtype: float64\n"
     ]
    }
   ],
   "source": [
    "print(test_df_have_na.isna().sum()/test_df_have_na.shape[0]*100)"
   ]
  },
  {
   "cell_type": "code",
   "execution_count": 46,
   "metadata": {},
   "outputs": [],
   "source": [
    "test_df = pd.concat([test_df_have_na,test_df_no_na],axis=1)"
   ]
  },
  {
   "cell_type": "code",
   "execution_count": 47,
   "metadata": {},
   "outputs": [
    {
     "name": "stdout",
     "output_type": "stream",
     "text": [
      "air_temperature           0.0\n",
      "cloud_coverage            0.0\n",
      "dew_temperature           0.0\n",
      "precip_depth_1_hr         0.0\n",
      "sea_level_pressure        0.0\n",
      "wind_speed                0.0\n",
      "year_built_mean_encode    0.0\n",
      "building_id               0.0\n",
      "timestamp                 0.0\n",
      "meter_reading             0.0\n",
      "DT_M                      0.0\n",
      "DT_W                      0.0\n",
      "DT_D                      0.0\n",
      "DT_hour                   0.0\n",
      "DT_day_week               0.0\n",
      "DT_day_month              0.0\n",
      "DT_week_month             0.0\n",
      "site_id                   0.0\n",
      "square_feet               0.0\n",
      "floor_count               0.0\n",
      "workday                   0.0\n",
      "avg_floor_area            0.0\n",
      "(-0.36, 45.0]             0.0\n",
      "(45.0, 90.0]              0.0\n",
      "(90.0, 135.0]             0.0\n",
      "(135.0, 180.0]            0.0\n",
      "(180.0, 225.0]            0.0\n",
      "(225.0, 270.0]            0.0\n",
      "(270.0, 315.0]            0.0\n",
      "(315.0, 360.0]            0.0\n",
      "0                         0.0\n",
      "1                         0.0\n",
      "2                         0.0\n",
      "3                         0.0\n",
      "4                         0.0\n",
      "5                         0.0\n",
      "6                         0.0\n",
      "7                         0.0\n",
      "8                         0.0\n",
      "9                         0.0\n",
      "10                        0.0\n",
      "11                        0.0\n",
      "12                        0.0\n",
      "13                        0.0\n",
      "14                        0.0\n",
      "15                        0.0\n",
      "0                         0.0\n",
      "1                         0.0\n",
      "2                         0.0\n",
      "3                         0.0\n",
      "dtype: float64\n"
     ]
    }
   ],
   "source": [
    "print(test_df.isna().sum()/test_df.shape[0]*100)"
   ]
  },
  {
   "cell_type": "code",
   "execution_count": 48,
   "metadata": {},
   "outputs": [],
   "source": [
    "test_df.to_pickle('../../Datas/ashre-energy/FE_test_V1_noNan.pkl')"
   ]
  },
  {
   "cell_type": "code",
   "execution_count": null,
   "metadata": {},
   "outputs": [],
   "source": []
  }
 ],
 "metadata": {
  "kernelspec": {
   "display_name": "Python 3",
   "language": "python",
   "name": "python3"
  },
  "language_info": {
   "codemirror_mode": {
    "name": "ipython",
    "version": 3
   },
   "file_extension": ".py",
   "mimetype": "text/x-python",
   "name": "python",
   "nbconvert_exporter": "python",
   "pygments_lexer": "ipython3",
   "version": "3.5.3"
  }
 },
 "nbformat": 4,
 "nbformat_minor": 4
}
