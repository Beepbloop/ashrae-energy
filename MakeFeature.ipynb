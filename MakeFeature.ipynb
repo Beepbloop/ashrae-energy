{
 "cells": [
  {
   "cell_type": "code",
   "execution_count": 1,
   "metadata": {},
   "outputs": [
    {
     "name": "stdout",
     "output_type": "stream",
     "text": [
      "Populating the interactive namespace from numpy and matplotlib\n"
     ]
    }
   ],
   "source": [
    "import pandas as pd\n",
    "import os\n",
    "import seaborn as sns\n",
    "%pylab inline\n",
    "%matplotlib inline\n",
    "import matplotlib.pyplot as plt"
   ]
  },
  {
   "cell_type": "code",
   "execution_count": 2,
   "metadata": {},
   "outputs": [
    {
     "name": "stdout",
     "output_type": "stream",
     "text": [
      "../../Datas/ashre-energy/test_df.pkl\n",
      "../../Datas/ashre-energy/test.pkl\n",
      "../../Datas/ashre-energy/train.pkl\n",
      "../../Datas/ashre-energy/building_metadata.pkl\n",
      "../../Datas/ashre-energy/weather_train.pkl\n",
      "../../Datas/ashre-energy/test.csv\n",
      "../../Datas/ashre-energy/sample_submission.csv\n",
      "../../Datas/ashre-energy/train.csv\n",
      "../../Datas/ashre-energy/weather_test.pkl\n",
      "../../Datas/ashre-energy/building_metadata.csv\n",
      "../../Datas/ashre-energy/weather_test.csv\n",
      "../../Datas/ashre-energy/weather_train.csv\n",
      "../../Datas/ashre-energy/submission.csv\n",
      "../../Datas/ashre-energy/.gitignore\n",
      "../../Datas/ashre-energy/train_df.pkl\n",
      "../../Datas/ashre-energy/.ipynb_checkpoints/.gitignore-checkpoint\n"
     ]
    }
   ],
   "source": [
    "for dirname, _, filenames in os.walk('../../Datas/ashre-energy/'):\n",
    "    for filename in filenames:\n",
    "        print(os.path.join(dirname, filename))"
   ]
  },
  {
   "cell_type": "code",
   "execution_count": 67,
   "metadata": {},
   "outputs": [],
   "source": [
    "train = pd.read_pickle('../../Datas/ashre-energy/train_df.pkl')\n",
    "test = pd.read_pickle('../../Datas/ashre-energy/test_df.pkl')"
   ]
  },
  {
   "cell_type": "code",
   "execution_count": 79,
   "metadata": {},
   "outputs": [],
   "source": [
    "to_dummy = {}"
   ]
  },
  {
   "cell_type": "code",
   "execution_count": 76,
   "metadata": {},
   "outputs": [],
   "source": [
    "#Make workday\n",
    "train['workday'] = train['DT_day_week'].isin([0,6]).astype(np.int8)"
   ]
  },
  {
   "cell_type": "code",
   "execution_count": 82,
   "metadata": {},
   "outputs": [],
   "source": [
    "#Group wind in to catergory\n",
    "train['new_direction_dir'] = pd.cut(train['wind_direction'],bins=8)\n",
    "to_dummy['new_direction_dir'] = True"
   ]
  },
  {
   "cell_type": "code",
   "execution_count": 85,
   "metadata": {},
   "outputs": [],
   "source": [
    "#Onehot encode and drop columns\n",
    "for col,drop in to_dummy.items():\n",
    "    train = pd.concat([train,pd.get_dummies(train[col])],axis=1)\n",
    "    if drop:\n",
    "        train.drop(col,axis=1)"
   ]
  },
  {
   "cell_type": "code",
   "execution_count": null,
   "metadata": {},
   "outputs": [],
   "source": []
  }
 ],
 "metadata": {
  "kernelspec": {
   "display_name": "Python 3",
   "language": "python",
   "name": "python3"
  },
  "language_info": {
   "codemirror_mode": {
    "name": "ipython",
    "version": 3
   },
   "file_extension": ".py",
   "mimetype": "text/x-python",
   "name": "python",
   "nbconvert_exporter": "python",
   "pygments_lexer": "ipython3",
   "version": "3.5.3"
  }
 },
 "nbformat": 4,
 "nbformat_minor": 4
}
