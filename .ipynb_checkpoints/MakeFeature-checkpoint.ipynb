{
 "cells": [
  {
   "cell_type": "code",
   "execution_count": 1,
   "metadata": {},
   "outputs": [
    {
     "name": "stdout",
     "output_type": "stream",
     "text": [
      "Populating the interactive namespace from numpy and matplotlib\n"
     ]
    }
   ],
   "source": [
    "import pandas as pd\n",
    "import os\n",
    "import seaborn as sns\n",
    "%pylab inline\n",
    "%matplotlib inline\n",
    "import matplotlib.pyplot as plt\n",
    "import category_encoders as ce"
   ]
  },
  {
   "cell_type": "code",
   "execution_count": 2,
   "metadata": {},
   "outputs": [
    {
     "name": "stdout",
     "output_type": "stream",
     "text": [
      "../../Datas/ashre-energy/test_df.pkl\n",
      "../../Datas/ashre-energy/FE_train_V1.pkl\n",
      "../../Datas/ashre-energy/test.pkl\n",
      "../../Datas/ashre-energy/train.pkl\n",
      "../../Datas/ashre-energy/building_metadata.pkl\n",
      "../../Datas/ashre-energy/weather_train.pkl\n",
      "../../Datas/ashre-energy/test.csv\n",
      "../../Datas/ashre-energy/sample_submission.csv\n",
      "../../Datas/ashre-energy/train.csv\n",
      "../../Datas/ashre-energy/weather_test.pkl\n",
      "../../Datas/ashre-energy/building_metadata.csv\n",
      "../../Datas/ashre-energy/weather_test.csv\n",
      "../../Datas/ashre-energy/weather_train.csv\n",
      "../../Datas/ashre-energy/submission.csv\n",
      "../../Datas/ashre-energy/.gitignore\n",
      "../../Datas/ashre-energy/train_df.pkl\n",
      "../../Datas/ashre-energy/.ipynb_checkpoints/.gitignore-checkpoint\n"
     ]
    }
   ],
   "source": [
    "for dirname, _, filenames in os.walk('../../Datas/ashre-energy/'):\n",
    "    for filename in filenames:\n",
    "        print(os.path.join(dirname, filename))"
   ]
  },
  {
   "cell_type": "code",
   "execution_count": 48,
   "metadata": {},
   "outputs": [],
   "source": [
    "train = pd.read_pickle('../../Datas/ashre-energy/train_df.pkl')\n",
    "test = pd.read_pickle('../../Datas/ashre-energy/test_df.pkl')"
   ]
  },
  {
   "cell_type": "code",
   "execution_count": 3,
   "metadata": {},
   "outputs": [],
   "source": [
    "#Onehot encode and drop columns\n",
    "def onehotEncode(df,dic):\n",
    "    for col,drop in dic.items():\n",
    "        df = pd.concat([df,pd.get_dummies(df[col])],axis=1)\n",
    "        if drop:\n",
    "            df.drop(col,axis=1,inplace=True)\n",
    "    return df"
   ]
  },
  {
   "cell_type": "code",
   "execution_count": 4,
   "metadata": {},
   "outputs": [],
   "source": [
    "def meanEncode(df,dic):\n",
    "    for col,drop in dic.items():\n",
    "        mean = df[col].mean()\n",
    "        df[col+'_mean_encode'] = df[col]-mean\n",
    "        if drop:\n",
    "            df.drop(col,axis=1,inplace=True)\n",
    "    return df"
   ]
  },
  {
   "cell_type": "code",
   "execution_count": 5,
   "metadata": {},
   "outputs": [],
   "source": [
    "def seeHis(df,col):\n",
    "    sns.distplot(df[col].dropna(),label=col)"
   ]
  },
  {
   "cell_type": "code",
   "execution_count": 52,
   "metadata": {},
   "outputs": [],
   "source": [
    "to_onehot = {'primary_use':True,'meter':True}\n",
    "to_mean_encode = {'year_built':True}"
   ]
  },
  {
   "cell_type": "code",
   "execution_count": 53,
   "metadata": {},
   "outputs": [],
   "source": [
    "#Make workday\n",
    "train['workday'] = train['DT_day_week'].isin([0,6]).astype(np.int8)"
   ]
  },
  {
   "cell_type": "code",
   "execution_count": 54,
   "metadata": {},
   "outputs": [],
   "source": [
    "#Group wind in to catergory\n",
    "train['new_wind_dir'] = pd.cut(train['wind_direction'],bins=8)\n",
    "train.drop('wind_direction',axis=1,inplace=True)\n",
    "to_onehot['new_wind_dir'] = True"
   ]
  },
  {
   "cell_type": "code",
   "execution_count": 55,
   "metadata": {},
   "outputs": [],
   "source": [
    "train['floor_count'].replace(0,1,inplace=True)\n",
    "train['avg_floor_area'] = train['square_feet']/train['floor_count']"
   ]
  },
  {
   "cell_type": "code",
   "execution_count": 56,
   "metadata": {},
   "outputs": [],
   "source": [
    "train['year_built'].replace(-999,np.nan,inplace=True)"
   ]
  },
  {
   "cell_type": "code",
   "execution_count": 57,
   "metadata": {},
   "outputs": [],
   "source": [
    "train = onehotEncode(train,to_onehot)\n",
    "train = meanEncode(train,to_mean_encode)"
   ]
  },
  {
   "cell_type": "code",
   "execution_count": 58,
   "metadata": {},
   "outputs": [
    {
     "data": {
      "text/plain": [
       "['building_id',\n",
       " 'timestamp',\n",
       " 'meter_reading',\n",
       " 'DT_M',\n",
       " 'DT_W',\n",
       " 'DT_D',\n",
       " 'DT_hour',\n",
       " 'DT_day_week',\n",
       " 'DT_day_month',\n",
       " 'DT_week_month',\n",
       " 'site_id',\n",
       " 'square_feet',\n",
       " 'floor_count',\n",
       " 'air_temperature',\n",
       " 'cloud_coverage',\n",
       " 'dew_temperature',\n",
       " 'precip_depth_1_hr',\n",
       " 'sea_level_pressure',\n",
       " 'wind_speed',\n",
       " 'workday',\n",
       " 'avg_floor_area',\n",
       " 0,\n",
       " 1,\n",
       " 2,\n",
       " 3,\n",
       " 0,\n",
       " 1,\n",
       " 2,\n",
       " 3,\n",
       " 4,\n",
       " 5,\n",
       " 6,\n",
       " 7,\n",
       " 8,\n",
       " 9,\n",
       " 10,\n",
       " 11,\n",
       " 12,\n",
       " 13,\n",
       " 14,\n",
       " 15,\n",
       " Interval(-0.36, 45.0, closed='right'),\n",
       " Interval(45.0, 90.0, closed='right'),\n",
       " Interval(90.0, 135.0, closed='right'),\n",
       " Interval(135.0, 180.0, closed='right'),\n",
       " Interval(180.0, 225.0, closed='right'),\n",
       " Interval(225.0, 270.0, closed='right'),\n",
       " Interval(270.0, 315.0, closed='right'),\n",
       " Interval(315.0, 360.0, closed='right'),\n",
       " 'year_built_mean_encode']"
      ]
     },
     "execution_count": 58,
     "metadata": {},
     "output_type": "execute_result"
    }
   ],
   "source": [
    "train.columns.to_list()"
   ]
  },
  {
   "cell_type": "code",
   "execution_count": 59,
   "metadata": {},
   "outputs": [],
   "source": [
    "train.to_pickle('../../Datas/ashre-energy/FE_train_V1.pkl')"
   ]
  },
  {
   "cell_type": "code",
   "execution_count": 6,
   "metadata": {},
   "outputs": [],
   "source": [
    "def pipeline(df):\n",
    "    to_onehot = {'primary_use':True,'meter':True}\n",
    "    to_mean_encode = {'year_built':True}\n",
    "    \n",
    "    #Make workday\n",
    "    df['workday'] = df['DT_day_week'].isin([0,6]).astype(np.int8)\n",
    "\n",
    "    #Group wind in to catergory\n",
    "    df['new_wind_dir'] = pd.cut(df['wind_direction'],bins=8)\n",
    "    df.drop('wind_direction',axis=1,inplace=True)\n",
    "    to_onehot['new_wind_dir'] = True\n",
    "    \n",
    "    #Make average floor\n",
    "    df['floor_count'].replace(0,1,inplace=True)\n",
    "    df['avg_floor_area'] = df['square_feet']/df['floor_count']\n",
    "    \n",
    "    #Clean year_built\n",
    "    df['year_built'].replace(-999,np.nan,inplace=True)\n",
    "    df = onehotEncode(df,to_onehot)\n",
    "    df = meanEncode(df,to_mean_encode)\n",
    "    return df"
   ]
  },
  {
   "cell_type": "code",
   "execution_count": 7,
   "metadata": {},
   "outputs": [],
   "source": [
    "train_df = pd.read_pickle('../../Datas/ashre-energy/train_df.pkl')\n",
    "train_df = pipeline(train_df)\n",
    "train_df.to_pickle('../../Datas/ashre-energy/FE_train_V1.pkl')\n",
    "del train_df"
   ]
  },
  {
   "cell_type": "code",
   "execution_count": 8,
   "metadata": {},
   "outputs": [],
   "source": [
    "test_df = pd.read_pickle('../../Datas/ashre-energy/test_df.pkl')\n",
    "test_df = pipeline(test_df)\n",
    "test_df.to_pickle('../../Datas/ashre-energy/FE_test_V1.pkl')\n",
    "del test_df"
   ]
  },
  {
   "cell_type": "code",
   "execution_count": null,
   "metadata": {},
   "outputs": [],
   "source": []
  }
 ],
 "metadata": {
  "kernelspec": {
   "display_name": "Python 3",
   "language": "python",
   "name": "python3"
  },
  "language_info": {
   "codemirror_mode": {
    "name": "ipython",
    "version": 3
   },
   "file_extension": ".py",
   "mimetype": "text/x-python",
   "name": "python",
   "nbconvert_exporter": "python",
   "pygments_lexer": "ipython3",
   "version": "3.5.3"
  }
 },
 "nbformat": 4,
 "nbformat_minor": 4
}
