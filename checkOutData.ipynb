{
 "cells": [
  {
   "cell_type": "code",
   "execution_count": 42,
   "metadata": {},
   "outputs": [],
   "source": [
    "import pandas as pd\n",
    "import os"
   ]
  },
  {
   "cell_type": "code",
   "execution_count": 44,
   "metadata": {},
   "outputs": [
    {
     "name": "stdout",
     "output_type": "stream",
     "text": [
      "../../Datas/ashre-energy/test.csv\n",
      "../../Datas/ashre-energy/sample_submission.csv\n",
      "../../Datas/ashre-energy/train.csv\n",
      "../../Datas/ashre-energy/building_metadata.csv\n",
      "../../Datas/ashre-energy/weather_test.csv\n",
      "../../Datas/ashre-energy/weather_train.csv\n"
     ]
    }
   ],
   "source": [
    "for dirname, _, filenames in os.walk('../../Datas/ashre-energy/'):\n",
    "    for filename in filenames:\n",
    "        print(os.path.join(dirname, filename))"
   ]
  },
  {
   "cell_type": "code",
   "execution_count": 45,
   "metadata": {},
   "outputs": [],
   "source": [
    "train = pd.read_csv('~/Datas/ashre-energy/train.csv',nrows=5)\n",
    "test = pd.read_csv('~/Datas/ashre-energy/test.csv',nrows=5)\n",
    "weather_test = pd.read_csv('~/Datas/ashre-energy/weather_test.csv',nrows=5)\n",
    "weather_train = pd.read_csv('~/Datas/ashre-energy/weather_train.csv',nrows=5)"
   ]
  },
  {
   "cell_type": "code",
   "execution_count": 48,
   "metadata": {},
   "outputs": [],
   "source": [
    "def printCol(df):\n",
    "    print(df.head(1))\n",
    "    print(\"================================================================================\")"
   ]
  },
  {
   "cell_type": "code",
   "execution_count": 49,
   "metadata": {},
   "outputs": [
    {
     "name": "stdout",
     "output_type": "stream",
     "text": [
      "   building_id  meter            timestamp  meter_reading\n",
      "0            0      0  2016-01-01 00:00:00            0.0\n",
      "================================================================================\n",
      "   row_id  building_id  meter            timestamp\n",
      "0       0            0      0  2017-01-01 00:00:00\n",
      "================================================================================\n",
      "   site_id  building_id primary_use  square_feet  year_built  floor_count\n",
      "0        0            0   Education         7432        2008          NaN\n",
      "================================================================================\n",
      "   site_id            timestamp  air_temperature  cloud_coverage  \\\n",
      "0        0  2017-01-01 00:00:00             17.8             4.0   \n",
      "\n",
      "   dew_temperature  precip_depth_1_hr  sea_level_pressure  wind_direction  \\\n",
      "0             11.7                NaN              1021.4           100.0   \n",
      "\n",
      "   wind_speed  \n",
      "0         3.6  \n",
      "================================================================================\n",
      "   site_id            timestamp  air_temperature  cloud_coverage  \\\n",
      "0        0  2016-01-01 00:00:00             25.0             6.0   \n",
      "\n",
      "   dew_temperature  precip_depth_1_hr  sea_level_pressure  wind_direction  \\\n",
      "0             20.0                NaN              1019.7             0.0   \n",
      "\n",
      "   wind_speed  \n",
      "0         0.0  \n",
      "================================================================================\n"
     ]
    }
   ],
   "source": [
    "printCol(train)\n",
    "printCol(test)\n",
    "printCol(building_metadata)\n",
    "printCol(weather_test)\n",
    "printCol(weather_train)"
   ]
  },
  {
   "cell_type": "code",
   "execution_count": null,
   "metadata": {},
   "outputs": [],
   "source": []
  }
 ],
 "metadata": {
  "kernelspec": {
   "display_name": "Python 3",
   "language": "python",
   "name": "python3"
  },
  "language_info": {
   "codemirror_mode": {
    "name": "ipython",
    "version": 3
   },
   "file_extension": ".py",
   "mimetype": "text/x-python",
   "name": "python",
   "nbconvert_exporter": "python",
   "pygments_lexer": "ipython3",
   "version": "3.5.3"
  }
 },
 "nbformat": 4,
 "nbformat_minor": 4
}
